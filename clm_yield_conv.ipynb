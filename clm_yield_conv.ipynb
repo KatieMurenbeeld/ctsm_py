{
 "cells": [
  {
   "cell_type": "code",
   "execution_count": null,
   "id": "809d1d31-6385-4c49-8d1d-76a55dcfe91d",
   "metadata": {},
   "outputs": [],
   "source": [
    "# install libraries if necessary\n",
    "pip install matplotlib\n",
    "pip install xarray\n",
    "pip install cartopy\n",
    "pip install netCDF4"
   ]
  },
  {
   "cell_type": "code",
   "execution_count": null,
   "id": "94a62cf4-e407-41ba-b4df-05d3343a6838",
   "metadata": {},
   "outputs": [],
   "source": [
    "# import libraries\n",
    "import numpy as np\n",
    "import pandas as pd \n",
    "import matplotlib.pylab as plt\n",
    "import xarray as xr"
   ]
  },
  {
   "cell_type": "code",
   "execution_count": null,
   "id": "34ae96b3-8102-446d-ad8b-862403d646e8",
   "metadata": {},
   "outputs": [],
   "source": [
    "=============================================\n",
    "How to process CLM5crop output to crop yield\n",
    "=============================================\n",
    "\n",
    "=============================================\n",
    "1. Original crop yield output:\n",
    "=============================================\n",
    "Under h1 files:\n",
    "$CASE/lnd/hist/*h1*\n",
    "\n",
    "Variable:\n",
    "GRAINC_TO_FOOD\n",
    "\n",
    "dimension:\n",
    "(time-monthly,pft)\n",
    "\n",
    "=============================================\n",
    "2. Regrid pft-level data from the 1D output and output a netCDF file with (year,cropPFT,lat,lon)\n",
    "=============================================\n",
    "***input variables:\n",
    "\n",
    "float GRAINC_TO_FOOD(time, pft) ;\n",
    "                GRAINC_TO_FOOD:long_name = \"grain C to food\" ;\n",
    "                GRAINC_TO_FOOD:units = \"gC/m^2/s\" ;\n",
    "                GRAINC_TO_FOOD:cell_methods = \"time: mean\" ;\n",
    "                GRAINC_TO_FOOD:_FillValue = 1.e+36f ;\n",
    "                GRAINC_TO_FOOD:missing_value = 1.e+36f ;\n",
    "\n",
    "int pfts1d_ixy(pft) ;\n",
    "                pfts1d_ixy:long_name = \"2d longitude index of corresponding pft\" ;\n",
    "\n",
    "int pfts1d_jxy(pft) ;\n",
    "                pfts1d_jxy:long_name = \"2d latitude index of corresponding pft\" ;\n",
    "\n",
    "double pfts1d_wtgcell(pft) ;\n",
    "                pfts1d_wtgcell:long_name = \"pft weight relative to corresponding gridcell\" ;\n",
    "\n",
    "float area(lat, lon) ;\n",
    "                area:long_name = \"grid cell areas\" ;\n",
    "                area:units = \"km^2\" ;\n",
    "                area:_FillValue = 1.e+36f ;\n",
    "                area:missing_value = 1.e+36f ;\n",
    "\n",
    "float landfrac(lat, lon) ;\n",
    "                landfrac:long_name = \"land fraction\" ;\n",
    "                landfrac:_FillValue = 1.e+36f ;\n",
    "                landfrac:missing_value = 1.e+36f ;\n",
    "\n",
    "\n",
    "***convert GRAINC_TO_FOOD(mon,pft) to GRAINC_TO_FOOD(mon,PFT,lat,lon) (where pft exists) using ixy and jxy\n",
    "\n",
    "***sum up monthly data to annual, and mutiply 60*60*24*30*0.85*10/(1000*0.45). After the conversion, \"gC/m^2/s\" is changed to \"ton/ha/yr\"\n",
    "\n",
    "***output the netCDF file with new GRAINC_TO_FOOD, and landarea (area*landfrac)\n",
    "\n",
    "=============================================\n",
    "3. remap cropPFT to 8 active crop types\n",
    "=============================================\n",
    "\n",
    "***input files and variables:\n",
    "\n",
    "from the new generated file:\n",
    "GRAINC_TO_FOOD(annual,PFT,lat,lon)\n",
    "area(lat,lon)\n",
    "\n",
    "from land surface file (e.g. /glade/p/univ/urtg0006/Yaqiong/):\n",
    "\n",
    "double PCT_CFT(cft, lsmlat, lsmlon) ;\n",
    "                PCT_CFT:long_name = \"percent crop functional type on the crop landunit (% of landunit)\" ;\n",
    "                PCT_CFT:units = \"unitless\" ;\n",
    "\n",
    "double PCT_CROP(lsmlat, lsmlon) ;\n",
    "                PCT_CROP:long_name = \"total percent crop landunit\" ;\n",
    "                PCT_CROP:units = \"unitless\" ;\n",
    "\n",
    "***\n",
    "\n",
    "calculate cropping area for specific crops using area, PCT_CFT, and PCT_CROP\n",
    "\n",
    "***\n",
    "\n",
    "extract 8 active crops from cpt (number starts from 0)\n",
    "\n",
    "* cornrain 2, 60 (one is tropical, the other is temperate)\n",
    "* cornirr 3, 61\n",
    "* soyrain 8, 62\n",
    "* soyirr 9, 63\n",
    "* ricerain 46\n",
    "* riceirr 47\n",
    "* springwheatrain 4\n",
    "* springwheatirr 5\n",
    "* cottonrain 26\n",
    "* cottonirr 27\n",
    "* sugarcanerain 52\n",
    "* sugarcaneirr 53\n",
    "\n",
    "***\n",
    "\n",
    "output crop yields and crop area"
   ]
  },
  {
   "cell_type": "code",
   "execution_count": null,
   "id": "c9610b0d-50e1-4b3d-8ee2-1972fc863997",
   "metadata": {},
   "outputs": [],
   "source": [
    "crops = {\n",
    "    'cornrain': [2, 60],\n",
    "    'cornirr': [3, 61],\n",
    "    'ricerain': [46],\n",
    "    'riceirr': [47],\n",
    "    'soyrain': [8, 62],\n",
    "    'soyirr': [9, 63],\n",
    "    'springwheatrain': [4],\n",
    "    'springwheatirr': [5],\n",
    "    'cottonrain': [26],\n",
    "    'cottonirr': [27],\n",
    "    'sugarcanerain': [52],\n",
    "    'sugarcaneirr': [53]\n",
    "    }"
   ]
  },
  {
   "cell_type": "code",
   "execution_count": null,
   "id": "e2547222-1472-40b9-91a5-dd3cb75c7458",
   "metadata": {},
   "outputs": [],
   "source": [
    "crop_ids = [item for sublist in [crops[crop] for crop in crops] for item in sublist]\n",
    "crop_ids"
   ]
  },
  {
   "cell_type": "code",
   "execution_count": null,
   "id": "5376a000-b0e0-4d29-ae90-97c925d6c400",
   "metadata": {},
   "outputs": [],
   "source": [
    "### Step 1"
   ]
  },
  {
   "cell_type": "code",
   "execution_count": null,
   "id": "cda8ee2e-7dd4-485a-9fc6-ad5df465830b",
   "metadata": {},
   "outputs": [],
   "source": [
    "filedir = '/glade/p/univ/urtg0006/Brendan/clmcrop/GRAINC_TO_FOOD'"
   ]
  },
  {
   "cell_type": "code",
   "execution_count": null,
   "id": "f07f1802-63d2-406b-98f0-cdef7179e79a",
   "metadata": {},
   "outputs": [],
   "source": [
    "grainc = xr.open_dataset(filedir + '/b.e21.BW.f09_g17.SSP245-TSMLT-GAUSS-DEFAULT.006.clm2.h1.GRAINC_TO_FOOD.203501-206912.nc')"
   ]
  },
  {
   "cell_type": "code",
   "execution_count": null,
   "id": "d7f767b6-5451-46b9-818a-b7839cfb4082",
   "metadata": {},
   "outputs": [],
   "source": [
    "grainc = grainc.sel(time=slice('2060', '2069'))"
   ]
  },
  {
   "cell_type": "code",
   "execution_count": null,
   "id": "2602cb99-676a-432d-8fa0-1968cbbd578e",
   "metadata": {},
   "outputs": [],
   "source": [
    "grain = grainc.GRAINC_TO_FOOD"
   ]
  },
  {
   "cell_type": "code",
   "execution_count": null,
   "id": "439e8a43-f6b2-41b6-9678-8b2db6024dc8",
   "metadata": {},
   "outputs": [],
   "source": [
    "grain = grain.assign_coords(time = pd.date_range(start='2060', end='2070', freq='1M'))"
   ]
  },
  {
   "cell_type": "code",
   "execution_count": null,
   "id": "2d41c802-fe6a-4514-a8f9-f0d1472f4faf",
   "metadata": {},
   "outputs": [],
   "source": [
    "grainc"
   ]
  },
  {
   "cell_type": "code",
   "execution_count": null,
   "id": "43929c58-a9b9-4eba-af72-3009fc995262",
   "metadata": {},
   "outputs": [],
   "source": [
    "#some GRAINC_TO_FOOD files will not have the variables ixy anf jxy to convert pft to lat lon, import a file that does\n",
    "#grainc1 = xr.open_dataset(filedir + 'b.e21.BWSSP245cmip6.f09_g17.CMIP6-SSP2-4.5-WACCM.001.clm2.h1.GRAINC_TO_FOOD.2015-2100.nc')"
   ]
  },
  {
   "cell_type": "code",
   "execution_count": null,
   "id": "0a9cc784-4a4f-4136-9c7c-76cfccb9e1b8",
   "metadata": {},
   "outputs": [],
   "source": [
    "pfts1d_ixy = grainc.pfts1d_ixy\n",
    "pfts1d_jxy = grainc.pfts1d_jxy\n",
    "pfts1d_wtgcell = grainc.pfts1d_wtgcell\n",
    "pfts1d_itype_veg = grainc.pfts1d_itype_veg\n",
    "area = grainc.area\n",
    "landfrac = grainc.landfrac\n",
    "landarea = area * landfrac"
   ]
  },
  {
   "cell_type": "code",
   "execution_count": null,
   "id": "5e18f3f7-4a51-49e6-9ba5-2e2f9461638a",
   "metadata": {},
   "outputs": [],
   "source": [
    "# Assign PFT coordinate to veg-type data\n",
    "pfts1d_itype_veg = pfts1d_itype_veg.assign_coords(pft = pfts1d_itype_veg.pft)\n",
    "\n",
    "# Resample grain to yearly sums\n",
    "grain = grain.resample(time='1A').sum()\n",
    "\n",
    "# Create empty 4D array to construct from 1D GRAINC array \n",
    "dims = ['time', 'pft', 'lat', 'lon']\n",
    "coords = {'time':grain.time, 'pft':np.arange(pfts1d_itype_veg.max()+1), 'lat':grainc.lat, 'lon':grainc.lon}\n",
    "grain4d = xr.DataArray(dims=dims, coords=coords)\n",
    "\n",
    "# Run for loop over 1D array to fill in 4D array\n",
    "for pft in grainc.pft.values:\n",
    "    if (pfts1d_wtgcell.isel(pft = pft) > 0.0):\n",
    "          veg = int(pfts1d_itype_veg.isel(pft = pft).item())\n",
    "          lat = int(pfts1d_jxy.isel(pft = pft).item() - 1)\n",
    "          lon = int(pfts1d_ixy.isel(pft = pft).item() - 1)\n",
    "          print(lat, lon, veg)\n",
    "          grain4d[dict(pft = veg, lat=lat, lon=lon)] = grain.sel(pft = pft)\n",
    "\n",
    "# Change units to ton/ha\n",
    "grain4d = grain4d * ((60*60*24*30*0.85*10)/(1000*0.45))\n",
    "grain4d.attrs[\"units\"] = \"ton/ha/yr\"\n",
    "\n",
    "# Save filled-in array\n",
    "grain4d.to_netcdf(filedir + '/GRAIN4D.b.e21.BW.f09_g17.SSP245-TSMLT-GAUSS-DEFAULT.006.clm2.h1.GRAINC_TO_FOOD.203501-206912.nc')"
   ]
  },
  {
   "cell_type": "code",
   "execution_count": null,
   "id": "79d3957f-c26c-461a-a8d9-db6475206276",
   "metadata": {},
   "outputs": [],
   "source": [
    "grain4d"
   ]
  },
  {
   "cell_type": "code",
   "execution_count": null,
   "id": "d00767fd-6623-4a78-81bb-826e86637e6b",
   "metadata": {},
   "outputs": [],
   "source": [
    "#grain4d = xr.open_dataset(filedir + '/GRAIN4D.tran-CO2-clm5.3-b.e21.BW.f09_g17.SSP245-TSMLT-GAUSS-DEFAULT.006.GRAINC_TO_FOOD.2060-2069.nc')\n",
    "#grain4d = grain4d['__xarray_dataarray_variable__']"
   ]
  },
  {
   "cell_type": "code",
   "execution_count": null,
   "id": "b746b49f-0932-4509-be48-f4367060d411",
   "metadata": {},
   "outputs": [],
   "source": [
    "### Step 2"
   ]
  },
  {
   "cell_type": "code",
   "execution_count": null,
   "id": "1d914116-dc79-4f9f-8794-f2fb53ffb40f",
   "metadata": {},
   "outputs": [],
   "source": [
    "surf_data = xr.open_dataset(filedir + 'landuse.timeseries_0.9x1.25_SSP2-4.5_78pfts_CMIP6_simyr1850-2100_c190102.nc')"
   ]
  },
  {
   "cell_type": "code",
   "execution_count": null,
   "id": "234ee8b1-f726-4e9b-ae20-1b44fd30f4b1",
   "metadata": {},
   "outputs": [],
   "source": [
    "surf_data = surf_data.sel(time=slice('2060', '2069'))"
   ]
  },
  {
   "cell_type": "code",
   "execution_count": null,
   "id": "e0a3394b-5263-46f8-846a-4c9847a2f379",
   "metadata": {},
   "outputs": [],
   "source": [
    "surf_data['time'] = pd.date_range(start='2060', end='2070', freq='1A')"
   ]
  },
  {
   "cell_type": "code",
   "execution_count": null,
   "id": "56a13c21-d338-4e56-8c06-f9bd0e62a6c4",
   "metadata": {},
   "outputs": [],
   "source": [
    "surf_data"
   ]
  },
  {
   "cell_type": "code",
   "execution_count": null,
   "id": "309a6101-a257-49f0-9af7-5dcadb5f0bce",
   "metadata": {},
   "outputs": [],
   "source": [
    "pct_crop = surf_data.PCT_CROP\n",
    "pct_cft  = surf_data.PCT_CFT\n",
    "\n",
    "# Create empty 4D array to construct YIELD_OUT by CROP\n",
    "dims = ['cft', 'time', 'lat', 'lon']\n",
    "cft_coord = pct_cft.cft-15.0\n",
    "coords = {'time':grain4d.time, 'cft':cft_coord, 'lat':grain4d.lat, 'lon':grain4d.lon}\n",
    "yield_OUT = xr.DataArray(dims=dims, coords=coords).rename('yield')\n",
    "yield_OUT.attrs[\"units\"] = \"ton/ha/yr\"\n",
    "\n",
    "# Create empty 3D array to construct AREA_OUT by CROP\n",
    "dims = ['cft','time', 'lat', 'lon']\n",
    "coords = {'cft':cft_coord,'time':surf_data.time, 'lat':grain4d.lat, 'lon':grain4d.lon}\n",
    "area_OUT = xr.DataArray(dims=dims, coords=coords).rename('area')\n",
    "area_OUT.attrs[\"units\"] = \"km^2\"\n",
    "\n",
    "# For loop to create new file\n",
    "for crop_id in cft_coord:\n",
    "    area_OUT.loc[dict(cft=crop_id)] = (pct_cft.sel(cft=crop_id+15)/100).values * (pct_crop/100).values * landarea.values\n",
    "    yield_OUT.loc[dict(cft=crop_id)] = grain4d.sel(pft=crop_id+15)\n",
    "\n",
    "# Merge arrays to dataset and save\n",
    "yield_cft = xr.merge([yield_OUT, area_OUT])\n",
    "yield_cft['yield'] = yield_cft['yield'].where(yield_cft['area']>0)\n",
    "yield_cft.to_netcdf('STEP2.tran-CO2-clm5.3-b.e21.BWSSP245cmip6.f09_g17.CMIP6-SSP2-4.5-WACCM.006.GRAINC_TO_FOOD.2060-2069.nc')"
   ]
  },
  {
   "cell_type": "code",
   "execution_count": null,
   "id": "bff74aca-de67-4a60-9d80-0fa088e9f053",
   "metadata": {},
   "outputs": [],
   "source": [
    "# (one is tropical, the other is temperate)\n",
    "crops_tot = {\n",
    "        'corn': [2, 3, 60, 61],\n",
    "        'cornrain': [2, 60],\n",
    "        'cornirr': [3, 61],\n",
    "        'rice': [46, 47],\n",
    "        'ricerain': [46],\n",
    "        'riceirr': [47],\n",
    "        'soy': [8, 9, 62, 63],\n",
    "        'soyrain': [8, 62],\n",
    "        'soyirr': [9, 63],\n",
    "        'springwheat': [4, 5],\n",
    "        'springwheatrain': [4],\n",
    "        'springwheatirr': [5],\n",
    "        'cotton': [26, 27],\n",
    "        'cottonrain': [26],\n",
    "        'cottonirr': [27],\n",
    "        'sugar': [52, 53],\n",
    "        'sugarcanerain': [52],\n",
    "        'sugarcaneirr': [53]\n",
    "        }\n",
    "\n",
    "# Create empty 4D array to construct YIELD_OUT by CROP\n",
    "dims = ['crops', 'time', 'lat', 'lon']\n",
    "coords = { 'crops':np.arange(0, 18, 1.0),'time':yield_cft.time, 'lat':yield_cft.lat, 'lon':yield_cft.lon}\n",
    "yield_OUT_crop = xr.DataArray(dims=dims, coords=coords).rename('yield')\n",
    "yield_OUT_crop.attrs[\"units\"] = \"ton/ha/yr\"\n",
    "\n",
    "# Create empty 3D array to construct AREA_OUT by CROP\n",
    "dims = ['crops','time', 'lat', 'lon']\n",
    "coords = {'crops':np.arange(0, 18, 1.0),'time':yield_cft.time,'lat':yield_cft.lat, 'lon':yield_cft.lon}\n",
    "area_OUT_crop = xr.DataArray(dims=dims, coords=coords).rename('area')\n",
    "area_OUT_crop.attrs[\"units\"] = \"km^2\"\n",
    "\n",
    "for i, crop in enumerate(crops_tot):\n",
    "    if i%3 !=0: \n",
    "        print(crop)\n",
    "        IDs = crops_tot[crop]\n",
    "        IDs = [id for id in IDs]\n",
    "        subset = yield_cft.sel(cft=IDs)\n",
    "        yields = subset['yield']\n",
    "        area   = subset['area']\n",
    "        yields = yields.where(area>0).sum(dim='cft', min_count=1)\n",
    "        area   = area.sum(dim='cft', min_count=1)\n",
    "        yield_OUT_crop.loc[dict(crops=i)] = yields\n",
    "        area_OUT_crop.loc[dict(crops=i)]  = area\n",
    "\n",
    "for i, crop in enumerate(crops_tot):\n",
    "    if i%3 ==0:\n",
    "        print(crop)\n",
    "        yields = yield_OUT_crop.sel(crops=[i+1, i+2])\n",
    "        area   = area_OUT_crop.sel(crops=[i+1, i+2])\n",
    "        yields = (yields * area).sum(dim='crops', min_count=1)\n",
    "        area   = area.sum(dim='crops', min_count=1)\n",
    "        yields = yields / area\n",
    "        yield_OUT_crop.loc[dict(crops=i)] = yields\n",
    "        area_OUT_crop.loc[dict(crops=i)]  = area\n",
    "\n",
    "yield_crop = xr.merge([yield_OUT_crop, area_OUT_crop])\n",
    "yield_crop.to_netcdf(filedir + '/tran-CO2-clm5.3-b.e21.BW.f09_g17.SSP245-TSMLT-GAUSS-DEFAULT.006.yield.2060-2069.nc')"
   ]
  }
 ],
 "metadata": {
  "kernelspec": {
   "display_name": "Python 3",
   "language": "python",
   "name": "python3"
  },
  "language_info": {
   "codemirror_mode": {
    "name": "ipython",
    "version": 3
   },
   "file_extension": ".py",
   "mimetype": "text/x-python",
   "name": "python",
   "nbconvert_exporter": "python",
   "pygments_lexer": "ipython3",
   "version": "3.9.4"
  }
 },
 "nbformat": 4,
 "nbformat_minor": 5
}
